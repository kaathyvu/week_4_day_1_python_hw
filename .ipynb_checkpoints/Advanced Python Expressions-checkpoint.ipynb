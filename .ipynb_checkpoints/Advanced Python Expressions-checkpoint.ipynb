{
 "cells": [
  {
   "cell_type": "markdown",
   "metadata": {},
   "source": [
    "# Regular Expressions"
   ]
  },
  {
   "cell_type": "markdown",
   "metadata": {},
   "source": [
    "# Tasks today:\n",
    "1) <b>Importing</b> <br>\n",
    "2) <b>Using Regular Expressions</b> <br>\n",
    " &nbsp;&nbsp;&nbsp;&nbsp; a) re.compile() <br>\n",
    " &nbsp;&nbsp;&nbsp;&nbsp; b) re.match() <br>\n",
    " &nbsp;&nbsp;&nbsp;&nbsp; c) re.findall() <br>\n",
    " &nbsp;&nbsp;&nbsp;&nbsp; d) re.search() <br>\n",
    "3) <b>Sets</b> <br>\n",
    " &nbsp;&nbsp;&nbsp;&nbsp; a) Integer Ranges <br>\n",
    " &nbsp;&nbsp;&nbsp;&nbsp; b) Character Ranges <br>\n",
    "4) <b>Counting Occurences</b> <br>\n",
    " &nbsp;&nbsp;&nbsp;&nbsp; a) {x} <br>\n",
    " &nbsp;&nbsp;&nbsp;&nbsp; b) {, x} <br>\n",
    " &nbsp;&nbsp;&nbsp;&nbsp; c) {?} <br>\n",
    " &nbsp;&nbsp;&nbsp;&nbsp; d) {*} <br>\n",
    " &nbsp;&nbsp;&nbsp;&nbsp; e) {+} <br>\n",
    "5) <b>In-Class Exercise #1</b> <br>\n",
    "6) <b>Escaping Characters</b> <br>\n",
    "7) <b>Grouping</b> <br>\n",
    "8) <b>In-Class Exercise #2</b> <br>\n",
    "9) <b>Opening a File</b> <br>\n",
    " &nbsp;&nbsp;&nbsp;&nbsp; a) open() <br>\n",
    " &nbsp;&nbsp;&nbsp;&nbsp; b) with open() <br>\n",
    " &nbsp;&nbsp;&nbsp;&nbsp; c) re.match() <br>\n",
    " &nbsp;&nbsp;&nbsp;&nbsp; d) re.search() <br>\n",
    " &nbsp;&nbsp;&nbsp;&nbsp; e) Store the String in a Variable <br>\n",
    "10) <b>Regex Project</b> <br>"
   ]
  },
  {
   "cell_type": "markdown",
   "metadata": {},
   "source": [
    "### Importing <br>\n",
    "<p>Regular Expressions are universal throughout most programming languages... They are generally imported through the module 're'.</p>"
   ]
  },
  {
   "cell_type": "code",
   "execution_count": null,
   "metadata": {},
   "outputs": [],
   "source": [
    "https://regex101.com/"
   ]
  },
  {
   "cell_type": "code",
   "execution_count": 24,
   "metadata": {},
   "outputs": [],
   "source": [
    "# import re\n",
    "# https://docs.python.org/3/library/re.html\n",
    "\n",
    "import re"
   ]
  },
  {
   "cell_type": "markdown",
   "metadata": {},
   "source": [
    "### Using Regular Expressions <br>\n",
    "<p>Regular expressions give us the ability to search for patterns within text, strings, files, etc. They serve several uses, such as; security measures, searching, filtering, pattern recognition, and more...</p>"
   ]
  },
  {
   "cell_type": "markdown",
   "metadata": {},
   "source": [
    "##### re.compile()"
   ]
  },
  {
   "cell_type": "code",
   "execution_count": 3,
   "metadata": {},
   "outputs": [],
   "source": [
    "# Using compile, pre determines the string to be used in regular expression methods\n",
    "\n",
    "pattern = re.compile('abcd') # 'abc' will always be a string\n"
   ]
  },
  {
   "cell_type": "markdown",
   "metadata": {},
   "source": [
    "##### re.match()"
   ]
  },
  {
   "cell_type": "code",
   "execution_count": 5,
   "metadata": {},
   "outputs": [
    {
     "name": "stdout",
     "output_type": "stream",
     "text": [
      "<re.Match object; span=(0, 4), match='abcd'>\n",
      "(0, 4)\n"
     ]
    }
   ],
   "source": [
    "# re.match will only see if the match exists at the beginning of the str at index 0\n",
    "# re.search will search the entire str and returns first instance of matched pattern\n",
    "\n",
    "match = pattern.match('abcd123')\n",
    "print(match) # <re.Match object; span=(0, 4), match='abcd'> -- index 0 up to index 4 (not inclusive)\n",
    "\n",
    "# Accessing the span of the match\n",
    "print(match.span())"
   ]
  },
  {
   "cell_type": "markdown",
   "metadata": {},
   "source": [
    "##### re.findall()"
   ]
  },
  {
   "cell_type": "code",
   "execution_count": 9,
   "metadata": {},
   "outputs": [
    {
     "name": "stdout",
     "output_type": "stream",
     "text": [
      "['abcd', 'abcd', 'abcd']\n"
     ]
    }
   ],
   "source": [
    "# This will bring back all match instances within our string/pattern\n",
    "\n",
    "finders = pattern.findall('123abcd abcd123 abcd abcabc acb acab acdc abba')\n",
    "print(finders)"
   ]
  },
  {
   "cell_type": "markdown",
   "metadata": {},
   "source": [
    "##### re.search()"
   ]
  },
  {
   "cell_type": "code",
   "execution_count": 17,
   "metadata": {},
   "outputs": [
    {
     "name": "stdout",
     "output_type": "stream",
     "text": [
      "<re.Match object; span=(12, 16), match='abcd'>\n",
      "None\n"
     ]
    }
   ],
   "source": [
    "# Similar to re.match()\n",
    "# re.search will search the entire str and returns first instance of matched pattern\n",
    "# re.match will only see if the match exists at the beginning of the str at index 0\n",
    "\n",
    "random_string = '123 123 234 abcd abc'\n",
    "\n",
    "search = pattern.search(random_string)\n",
    "match = pattern.match(random_string)\n",
    "\n",
    "print(search)\n",
    "print(match) # this sees that 'abcd' is not at index 0, so it returns None"
   ]
  },
  {
   "cell_type": "markdown",
   "metadata": {},
   "source": [
    "### Sets <br>\n",
    "<p>The following cells will allow you to use regular expressions to search for certain values within a range such as numbers 1 through 4.</p>"
   ]
  },
  {
   "cell_type": "markdown",
   "metadata": {},
   "source": [
    "##### [a-z] or [A-Z] - any lowercase/uppercase letters from a to z<br/>[^2] - anything that's not 2"
   ]
  },
  {
   "cell_type": "markdown",
   "metadata": {},
   "source": [
    "##### Integer Ranges"
   ]
  },
  {
   "cell_type": "code",
   "execution_count": 30,
   "metadata": {},
   "outputs": [
    {
     "name": "stdout",
     "output_type": "stream",
     "text": [
      "(0, 3)\n",
      "582\n",
      "<re.Match object; span=(0, 3), match='582'>\n"
     ]
    }
   ],
   "source": [
    "pattern_int = re.compile('[0-7][7-9][0-3]')\n",
    "# Checks to see if our pattern has any number between 0 & 7,\n",
    "#   followed by any number between 7 & 9, followed by any number between 0 & 3 \n",
    "\n",
    "random_numbers = pattern_int.search('58230')\n",
    "span = random_numbers.span()\n",
    "print(span)\n",
    "print(random_numbers[span[0]])\n",
    "print(random_numbers)"
   ]
  },
  {
   "cell_type": "code",
   "execution_count": 23,
   "metadata": {},
   "outputs": [
    {
     "name": "stdout",
     "output_type": "stream",
     "text": [
      "<re.Match object; span=(3, 6), match='528'>\n",
      "(3, 6)\n"
     ]
    }
   ],
   "source": [
    "pattern_int2 = re.compile('[4-6][1-3][7-9]')\n",
    "random_numbers2 = pattern_int2.search('765528')\n",
    "print(random_numbers2)\n",
    "print(random_numbers2.span())"
   ]
  },
  {
   "cell_type": "markdown",
   "metadata": {},
   "source": [
    "##### Character Ranges"
   ]
  },
  {
   "cell_type": "code",
   "execution_count": 32,
   "metadata": {},
   "outputs": [
    {
     "name": "stdout",
     "output_type": "stream",
     "text": [
      "['He', 'Th', 'Ge', 'Ke']\n"
     ]
    }
   ],
   "source": [
    "char_pattern = re.compile('[A-Z][a-z]') \n",
    "# This includes any letter from a to z (lowercase AND uppercase)\n",
    "# We are searching for any capital letter followed by any lowercase letter\n",
    "# https://www.w3schools.com/python/gloss_python_regex_sets.asp\n",
    "\n",
    "found = char_pattern.findall('Hello There General Kenobi')\n",
    "print(found)"
   ]
  },
  {
   "cell_type": "code",
   "execution_count": 33,
   "metadata": {},
   "outputs": [
    {
     "name": "stdout",
     "output_type": "stream",
     "text": [
      "['VeR', 'SpO', 'DaY']\n"
     ]
    }
   ],
   "source": [
    "char_pattern2 = re.compile('[A-Z][a-z][A-Z]')\n",
    "\n",
    "found2 = char_pattern2.findall('It is a VeRy SpOoKy DaY')\n",
    "print(found2)"
   ]
  },
  {
   "cell_type": "code",
   "execution_count": 39,
   "metadata": {},
   "outputs": [
    {
     "name": "stdout",
     "output_type": "stream",
     "text": [
      "['tha', 'not', 'tri', 'ate']\n"
     ]
    }
   ],
   "source": [
    "char_pattern3 = re.compile('[a-z][a-z][a-z]')\n",
    "\n",
    "found3 = char_pattern3.findall(\"IT'S RAINING IN CHICAGO thaT is not A GOOD TIME FOR triCK OR TREateRS\")\n",
    "print(found3)"
   ]
  },
  {
   "cell_type": "markdown",
   "metadata": {},
   "source": [
    "### Counting Occurences"
   ]
  },
  {
   "cell_type": "markdown",
   "metadata": {},
   "source": [
    "##### {x} - something that occurs {num_of_times}"
   ]
  },
  {
   "cell_type": "code",
   "execution_count": 43,
   "metadata": {},
   "outputs": [
    {
     "name": "stdout",
     "output_type": "stream",
     "text": [
      "['tha', 'not', 'tri', 'ate']\n"
     ]
    }
   ],
   "source": [
    "# {3} set number of occurences for specific pattern\n",
    "# Same thing as cell above, but more efficiently\n",
    "\n",
    "char_pattern3 = re.compile('[a-z]{3}')\n",
    "\n",
    "found3 = char_pattern3.findall('ITS RAINING IN CHICAGO thaT is not A GOOD TIME FOR triCK OR TREateRS')\n",
    "print(found3)"
   ]
  },
  {
   "cell_type": "markdown",
   "metadata": {},
   "source": [
    "##### {x, x} - something that occurs between x and x times"
   ]
  },
  {
   "cell_type": "code",
   "execution_count": null,
   "metadata": {},
   "outputs": [],
   "source": [
    "random_pattern = re.compile('m{1,5}')\n",
    "random_statement = random_pattern.findall('This is an example of a regular expression trying to find one m,\\\n",
    "more than one mm or five mmmmms ')\n",
    "print(random_statement)"
   ]
  },
  {
   "cell_type": "code",
   "execution_count": 41,
   "metadata": {},
   "outputs": [
    {
     "name": "stdout",
     "output_type": "stream",
     "text": [
      "['tha', 'is', 'not', 'tri', 'ate']\n"
     ]
    }
   ],
   "source": [
    "char_pattern3 = re.compile('[a-z]{1,3}')\n",
    "\n",
    "found3 = char_pattern3.findall(\"IT'S RAINING IN CHICAGO thaT is not A GOOD TIME FOR triCK OR TREateRS\")\n",
    "print(found3)"
   ]
  },
  {
   "cell_type": "markdown",
   "metadata": {},
   "source": [
    "##### ? - something that occurs 0 or 1 time"
   ]
  },
  {
   "cell_type": "code",
   "execution_count": null,
   "metadata": {},
   "outputs": [],
   "source": [
    "pattern = re.compile('Cass?andra')\n",
    "# This looks for the name Cassandra, but maybe someone spells it with 1 's' vs 2 's'\n",
    "\n",
    "found_pat = pattern.findall(\"Hello Cassandra, that is a great costume. I hope Casandra also has a nice costume\")\n",
    "print(found_pat)"
   ]
  },
  {
   "cell_type": "code",
   "execution_count": 44,
   "metadata": {},
   "outputs": [
    {
     "name": "stdout",
     "output_type": "stream",
     "text": [
      "['recomend', 'recommend']\n"
     ]
    }
   ],
   "source": [
    "pattern2 = re.compile('recomm?end')\n",
    "found_pat2 = pattern2.findall(\"Please recomend a spooky movie or recommend a very spooky movie\")\n",
    "print(found_pat2)"
   ]
  },
  {
   "cell_type": "markdown",
   "metadata": {},
   "source": [
    "##### * - something that occurs at least 0 times"
   ]
  },
  {
   "cell_type": "code",
   "execution_count": 131,
   "metadata": {},
   "outputs": [
    {
     "name": "stdout",
     "output_type": "stream",
     "text": [
      "['MMMs', 's', 's', 'Ms', 's', 's', 'Ms', 'MMMMs', 'Ms', 'Ms', 's', 's', 's', 's', 's']\n"
     ]
    }
   ],
   "source": [
    "# Searches for pattern, and if it's there, it returns all occurences of it\n",
    "\n",
    "pattern_m = re.compile('M*s')\n",
    "found_m = pattern_m.findall(\"MMMs names is Ms Smith. Mm Here are some MMMMMMM's Ms MMMMs Ms Mssssss\")\n",
    "print(found_m)\n",
    "# We are looking for any lowercase s, with capital M which doesn't have to occur due to the *\n",
    "# We get individual s's too because the M does not have to be there"
   ]
  },
  {
   "cell_type": "code",
   "execution_count": 52,
   "metadata": {},
   "outputs": [
    {
     "name": "stdout",
     "output_type": "stream",
     "text": [
      "['R2', 'D2', 'C3', 'BB8', '1', '2', '3']\n"
     ]
    }
   ],
   "source": [
    "pattern_char = re.compile('[A-Z]*[0-9]')\n",
    "# This looks for at least one capital letter followed by a number or just the number\n",
    "\n",
    "found_pat = pattern_char.findall('R2D2 is a really cool droid but C3PO is kind of a nerd and BB8 is ok. AAA 123')\n",
    "print(found_pat)"
   ]
  },
  {
   "cell_type": "markdown",
   "metadata": {},
   "source": [
    "##### + - something that occurs at least once"
   ]
  },
  {
   "cell_type": "code",
   "execution_count": 58,
   "metadata": {},
   "outputs": [
    {
     "name": "stdout",
     "output_type": "stream",
     "text": [
      "['R2', 'D2', 'C3', 'BB8', 'AA1']\n"
     ]
    }
   ],
   "source": [
    "pattern_char = re.compile('[A-Z]+[0-9]')\n",
    "# This looks for at least one capital letter followed by a number\n",
    "# This differs from * because the both the capital letter and number have to be there\n",
    "\n",
    "found_pat = pattern_char.findall('R2D2 is a really cool droid but C3PO is kind of a nerd and BB8 is ok. AA111 AAA 123')\n",
    "print(found_pat)"
   ]
  },
  {
   "cell_type": "code",
   "execution_count": 59,
   "metadata": {},
   "outputs": [
    {
     "name": "stdout",
     "output_type": "stream",
     "text": [
      "['Ms', 'MMMs']\n"
     ]
    }
   ],
   "source": [
    "pattern_once = re.compile('M+s')\n",
    "# This will not bring back all the s because it will only return s with a capital M in front of it\n",
    "\n",
    "found_pat = pattern_once.findall('My name is Ms Smith. Here are some MMMssss')\n",
    "print(found_pat)"
   ]
  },
  {
   "cell_type": "markdown",
   "metadata": {},
   "source": [
    "##### In-class exercise 1: \n",
    "\n",
    "Use a regular expression to find every number in the given string"
   ]
  },
  {
   "cell_type": "code",
   "execution_count": 74,
   "metadata": {},
   "outputs": [
    {
     "name": "stdout",
     "output_type": "stream",
     "text": [
      "['10909090', '1', '2']\n",
      "['10909090', '1', '2']\n"
     ]
    }
   ],
   "source": [
    "my_string = \"This string has 10909090 numbers, but it is only 1 string. I hope you solve this 2day.\"\n",
    "# Output: ['10909090','1',2]\n",
    "\n",
    "pattern = re.compile('[0-9]*[0-9]')\n",
    "found_patt = pattern.findall(my_string)\n",
    "print(found_patt)\n",
    "\n",
    "pattern = re.compile('[0-9]+')\n",
    "found_patt = pattern.findall(my_string)\n",
    "print(found_patt)"
   ]
  },
  {
   "cell_type": "markdown",
   "metadata": {},
   "source": [
    "### Escaping Characters"
   ]
  },
  {
   "cell_type": "markdown",
   "metadata": {},
   "source": [
    "##### \\w - look for any Unicode character<br/>\\W - look for anything that isnt a Unicode character\n",
    "\n",
    "[History on Unicode](http://unicode.org/standard/WhatIsUnicode.html)\n",
    "\n",
    "[More on Unicode Characters](https://en.wikipedia.org/wiki/List_of_Unicode_characters)"
   ]
  },
  {
   "cell_type": "code",
   "execution_count": 79,
   "metadata": {},
   "outputs": [
    {
     "name": "stdout",
     "output_type": "stream",
     "text": [
      "['This', 'is', 'a', 'sentence', 'W', 'an', 'exclamation', 'point', 'at', 'the', 'end', '4', '5', '6', '6']\n",
      "[' ', ' ', ' ', ', ', '/ ', ', ', ' ', ' ', ' ', ' ', '! !@#$%^']\n"
     ]
    }
   ],
   "source": [
    "pattern_1 = re.compile('[\\w]+')\n",
    "# This looks for any Unicode char happening at least once\n",
    "# Unicodes are letters and numbers\n",
    "\n",
    "pattern_2 = re.compile('[\\W]+')\n",
    "# This looks for any char that is not a Unicode happening at least once\n",
    "# Non-unicodes are spaces, symbols\n",
    "\n",
    "found_1 = pattern_1.findall(\"This is a sentence, W/ an, exclamation point at the end! 4 5 6 6\")\n",
    "found_2 = pattern_2.findall(\"This is a sentence, W/ an, exclamation point at the end! !@#$%^\")\n",
    "print(found_1)\n",
    "print(found_2)"
   ]
  },
  {
   "cell_type": "markdown",
   "metadata": {},
   "source": [
    "##### \\d - look for any digit 0-9<br/>\\D - look for anything that isnt a digit"
   ]
  },
  {
   "cell_type": "code",
   "execution_count": 86,
   "metadata": {},
   "outputs": [
    {
     "name": "stdout",
     "output_type": "stream",
     "text": [
      "['31st', '20days', '19th', '3rd', '1st', '27th']\n",
      "[\"Today's the \", 'st & in ', 'days it will be the ', 'th of November! Also ', 'rd, ', 'st, ', 'th']\n"
     ]
    }
   ],
   "source": [
    "pattern_num = re.compile('\\d{1,2}[a-z]{1,5}')\n",
    "# This is looking for a pattern for a digit happening 1 or 2 times, followed by a letter happening 1 to 5 times\n",
    "\n",
    "found_date = pattern_num.findall(\"Today's the 31st & in 20days it will be the 19th of November! Also 3rd, 1st, 27th\")\n",
    "print(found_date)\n",
    "\n",
    "pattern_num2 = re.compile('\\D+')\n",
    "# This will look for anything that is NOT a digit\n",
    "found_date2 = pattern_num2.findall(\"Today's the 31st & in 20days it will be the 19th of November! Also 3rd, 1st, 27th\")\n",
    "print(found_date2)"
   ]
  },
  {
   "cell_type": "markdown",
   "metadata": {},
   "source": [
    "##### \\s - look for any white space<br/>\\S - look for anything that isnt whitespace"
   ]
  },
  {
   "cell_type": "code",
   "execution_count": 88,
   "metadata": {},
   "outputs": [
    {
     "name": "stdout",
     "output_type": "stream",
     "text": [
      "['Are', 'you', 'afraid', 'of', 'the', 'dark']\n",
      "[' ', ' ', ' ', ' ', ' ']\n"
     ]
    }
   ],
   "source": [
    "pattern_no_space = re.compile('\\S[a-z]+') # This looks for anything that isn't whitespace followed by lowercase letter\n",
    "# This doesn't eliminate the letters starting with capital because it's just making sure that first char isn't a space\n",
    "pattern_space = re.compile('\\s+')\n",
    "\n",
    "found_no_space = pattern_no_space.findall(\"Are you afraid of the dark? 123\")\n",
    "found_space = pattern_space.findall(\"Are you afraid of the dark?\")\n",
    "\n",
    "print(found_no_space)\n",
    "print(found_space)"
   ]
  },
  {
   "cell_type": "markdown",
   "metadata": {},
   "source": [
    "##### \\b - look for boundaries or edges of a word<br/>\\B - look for anything that isnt a boundary"
   ]
  },
  {
   "cell_type": "code",
   "execution_count": 102,
   "metadata": {},
   "outputs": [
    {
     "name": "stdout",
     "output_type": "stream",
     "text": [
      "[]\n",
      "['H', 'I', 'S', 'O', 'G', 'B', 'M', 'M']\n"
     ]
    }
   ],
   "source": [
    "# Put this into regex101 because jupyter is not outputting this correctly\n",
    "\n",
    "# The boundary is the start or finish of the word\n",
    "pattern_bound = re.compile(\"\\b[a-z]\") # This looks for lowercase letters at the begining of a word\n",
    "pattern_bound_none = re.compile(\"[A-Z]\\B\") # This looks for capital letters that are at the end of the word\n",
    "\n",
    "found_bound = pattern_bound.findall(\"tHiS Is A SpOnGeBoB MeMe hehe TEST test Test\")\n",
    "print(found_bound)\n",
    "no_found_bound = pattern_bound_none.findall(\"tHiS Is A SpOnGeBoB MeMe hehe TEST test Test\")\n",
    "print(no_found_bound)"
   ]
  },
  {
   "cell_type": "markdown",
   "metadata": {},
   "source": [
    "### Grouping"
   ]
  },
  {
   "cell_type": "code",
   "execution_count": 120,
   "metadata": {},
   "outputs": [
    {
     "name": "stdout",
     "output_type": "stream",
     "text": [
      "[('Max', 'Smith'), ('LeBron', 'JAMES'), ('Michael', 'Jordan'), ('Kevin', 'Durant'), ('Patrick', 'McCormick')]\n",
      "('Max', 'Smith')\n",
      "not a name\n",
      "not a name\n",
      "('LeBron', 'JAMES')\n",
      "('Michael', 'Jordan')\n",
      "('Kevin', 'Durant')\n",
      "('Patrick', 'McCormick')\n"
     ]
    }
   ],
   "source": [
    "# Grouping allows you to search for multiple things\n",
    "\n",
    "my_string = \"Max Smith, aaron rodgers, Sam darnold, LeBron JAMES, Michael Jordan, Kevin Durant, Patrick McCormick\"\n",
    "\n",
    "pattern_name = re.compile('([A-Z][A-Za-z]+) ([A-Z][A-Za-z]+)')\n",
    "# Group 1 - first set of () = refers to first name\n",
    "#    means capital letter followed by any combination or lower/upper letters happening any amount of times\n",
    "# Group 2 - second set of () = refers to last name\n",
    "#    means capital letter followed by any combination or lower/upper letters happening any amount of times\n",
    "found_names = pattern_name.findall(my_string)\n",
    "print(found_names)\n",
    "\n",
    "for name in my_string.split(\",\"):\n",
    "    match = pattern_name.search(name)\n",
    "    \n",
    "    if match:\n",
    "        print(match.groups(2))\n",
    "    else:\n",
    "        print(\"not a name\")"
   ]
  },
  {
   "cell_type": "markdown",
   "metadata": {},
   "source": [
    "##### In-class Exercise 2:\n",
    "\n",
    "Write a function using regular expressions to find the domain name in the given email addresses (and return None for the invalid email addresses)<br><b>HINT: Use '|' for either or</b>"
   ]
  },
  {
   "cell_type": "code",
   "execution_count": 214,
   "metadata": {},
   "outputs": [
    {
     "name": "stdout",
     "output_type": "stream",
     "text": [
      "None\n",
      "pocohontas1776@gmail.com\n",
      "None\n",
      "yourfavoriteband@g6.org\n",
      "None\n"
     ]
    }
   ],
   "source": [
    "my_emails = [\"jordanw@codingtemple.orgcom\", \"pocohontas1776@gmail.com\", \"helloworld@aol..com\",\n",
    "             \"yourfavoriteband@g6.org\", \"@codingtemple.com\"]\n",
    "\n",
    "# You can also use the $ at the end of your compile expression -- this stops the search\n",
    "\n",
    "#.com OR .org => com|org\n",
    "\n",
    "#Expected output:\n",
    "#None\n",
    "#pocohontas1776@gmail.com\n",
    "#None\n",
    "#yourfavoriteband@g6.org\n",
    "#None\n",
    "\n",
    "def validateEmail(email):\n",
    "    pattern = re.compile('([A-Za-z0-9]+)@([A-Za-z0-9)]+).(com|org)$')\n",
    "    # [A-Za-z0-9)]+ means any combo of upper/lower letters & nums --> can also just do [\\w]+\n",
    "    # $ means the search will go onto the end of the $\n",
    "    \n",
    "    if pattern.match(email): # Checks if our email matches our pattern, and if so it'll return the meail\n",
    "        return email\n",
    "    else:\n",
    "        return None\n",
    "\n",
    "for email in my_emails:\n",
    "    print(validateEmail(email))"
   ]
  },
  {
   "cell_type": "markdown",
   "metadata": {},
   "source": [
    "### Opening a File <br>\n",
    "<p>Python gives us a couple ways to import files, below are the two used most often.</p>"
   ]
  },
  {
   "cell_type": "markdown",
   "metadata": {},
   "source": [
    "##### open()"
   ]
  },
  {
   "cell_type": "code",
   "execution_count": 128,
   "metadata": {},
   "outputs": [
    {
     "name": "stdout",
     "output_type": "stream",
     "text": [
      "Hawkins, Derek\tderek@codingtemple.com\t(555) 555-5555\tTeacher, Coding Temple\t@derekhawkins\n",
      "Zhai, Mo\tmozhai@codingtemple.com\t(555) 555-5554\tTeacher, Coding Temple\n",
      "Johnson, Joe\tjoejohnson@codingtemple.com\t\tJohson, Joe\n",
      "Osterberg, Sven-Erik\tgovernor@norrbotten.co.se\t\tGovernor, Norrbotten\t@sverik\n",
      ", Tim\ttim@killerrabbit.com\t\tEnchanter, Killer Rabbit Cave\n",
      "Butz, Ryan\tryanb@codingtemple.com\t(555) 555-5543\tCEO, Coding Temple\t@ryanbutz\n",
      "Doctor, The\tdoctor+companion@tardis.co.uk\t\tTime Lord, Gallifrey\n",
      "Exampleson, Example\tme@example.com\t555-555-5552\tExample, Example Co.\t@example\n",
      "Pael, Ripal\tripalp@codingtemple.com\t(555) 555-5553\tTeacher, Coding Temple\t@ripalp\n",
      "Vader, Darth\tdarth-vader@empire.gov\t(555) 555-4444\tSith Lord, Galactic Empire\t@darthvader\n",
      "Fernandez de la Vega Sanz, Maria Teresa\tmtfvs@spain.gov\t\tFirst Deputy Prime Minister, Spanish Gov\n",
      "\n"
     ]
    }
   ],
   "source": [
    "f = open(\"names.txt\")\n",
    "data = f.read()\n",
    "print(data)\n",
    "f.close()"
   ]
  },
  {
   "cell_type": "markdown",
   "metadata": {},
   "source": [
    "##### with open()"
   ]
  },
  {
   "cell_type": "code",
   "execution_count": 129,
   "metadata": {},
   "outputs": [
    {
     "name": "stdout",
     "output_type": "stream",
     "text": [
      "Hawkins, Derek\tderek@codingtemple.com\t(555) 555-5555\tTeacher, Coding Temple\t@derekhawkins\n",
      "Zhai, Mo\tmozhai@codingtemple.com\t(555) 555-5554\tTeacher, Coding Temple\n",
      "Johnson, Joe\tjoejohnson@codingtemple.com\t\tJohson, Joe\n",
      "Osterberg, Sven-Erik\tgovernor@norrbotten.co.se\t\tGovernor, Norrbotten\t@sverik\n",
      ", Tim\ttim@killerrabbit.com\t\tEnchanter, Killer Rabbit Cave\n",
      "Butz, Ryan\tryanb@codingtemple.com\t(555) 555-5543\tCEO, Coding Temple\t@ryanbutz\n",
      "Doctor, The\tdoctor+companion@tardis.co.uk\t\tTime Lord, Gallifrey\n",
      "Exampleson, Example\tme@example.com\t555-555-5552\tExample, Example Co.\t@example\n",
      "Pael, Ripal\tripalp@codingtemple.com\t(555) 555-5553\tTeacher, Coding Temple\t@ripalp\n",
      "Vader, Darth\tdarth-vader@empire.gov\t(555) 555-4444\tSith Lord, Galactic Empire\t@darthvader\n",
      "Fernandez de la Vega Sanz, Maria Teresa\tmtfvs@spain.gov\t\tFirst Deputy Prime Minister, Spanish Gov\n",
      "\n"
     ]
    }
   ],
   "source": [
    "with open('names.txt') as f:\n",
    "    data = f.read()\n",
    "    print(data)\n",
    "    \n",
    "# With this one, we don't have to close it out"
   ]
  },
  {
   "cell_type": "markdown",
   "metadata": {},
   "source": [
    "##### re.match()"
   ]
  },
  {
   "cell_type": "code",
   "execution_count": 130,
   "metadata": {},
   "outputs": [
    {
     "name": "stdout",
     "output_type": "stream",
     "text": [
      "<re.Match object; span=(0, 14), match='Hawkins, Derek'>\n"
     ]
    }
   ],
   "source": [
    "print(re.match(\"Hawkins, Derek\", data))"
   ]
  },
  {
   "cell_type": "markdown",
   "metadata": {},
   "source": [
    "##### re.search()"
   ]
  },
  {
   "cell_type": "code",
   "execution_count": 134,
   "metadata": {},
   "outputs": [
    {
     "name": "stdout",
     "output_type": "stream",
     "text": [
      "None\n",
      "<re.Match object; span=(582, 605), match='ripalp@codingtemple.com'>\n"
     ]
    }
   ],
   "source": [
    "print(re.match(\"ripalp@codingtemple.com\", data))\n",
    "print(re.search(\"ripalp@codingtemple.com\", data))"
   ]
  },
  {
   "cell_type": "markdown",
   "metadata": {},
   "source": [
    "##### Store the String to a Variable"
   ]
  },
  {
   "cell_type": "code",
   "execution_count": 139,
   "metadata": {},
   "outputs": [
    {
     "name": "stdout",
     "output_type": "stream",
     "text": [
      "What would you like to search for? Vader\n",
      "I found your data: <re.Match object; span=(652, 657), match='Vader'>\n"
     ]
    }
   ],
   "source": [
    "answer = input(\"What would you like to search for? \")\n",
    "found = re.search(answer, data)\n",
    "\n",
    "if found:\n",
    "    print(f\"I found your data: {found}\")\n",
    "else:\n",
    "    print(\"It is not here, sorry...\")"
   ]
  },
  {
   "cell_type": "markdown",
   "metadata": {},
   "source": [
    "### In-Class Exercise #3 <br>\n",
    "<p>Print each persons name and twitter handle, using groups, should look like:</p>\n",
    "<p>==============<br>\n",
    "   Full Name / Twitter<br>\n",
    "   ==============</p>\n",
    "Derek Hawkins / @derekhawkins\n",
    "\n",
    " Sven-Erik Osterberg / @sverik\n",
    "\n",
    " Ryan Butz / @ryanbutz\n",
    "\n",
    " Example Exampleson / @example\n",
    "\n",
    " Ripal Pael / @ripalp\n",
    "\n",
    " Darth Vader / @darthvader"
   ]
  },
  {
   "cell_type": "code",
   "execution_count": 159,
   "metadata": {},
   "outputs": [
    {
     "name": "stdout",
     "output_type": "stream",
     "text": [
      "Hawkins, Derek\tderek@codingtemple.com\t(555) 555-5555\tTeacher, Coding Temple\t@derekhawkins\n",
      "Zhai, Mo\tmozhai@codingtemple.com\t(555) 555-5554\tTeacher, Coding Temple\n",
      "Johnson, Joe\tjoejohnson@codingtemple.com\t\tJohson, Joe\n",
      "Osterberg, Sven-Erik\tgovernor@norrbotten.co.se\t\tGovernor, Norrbotten\t@sverik\n",
      ", Tim\ttim@killerrabbit.com\t\tEnchanter, Killer Rabbit Cave\n",
      "Butz, Ryan\tryanb@codingtemple.com\t(555) 555-5543\tCEO, Coding Temple\t@ryanbutz\n",
      "Doctor, The\tdoctor+companion@tardis.co.uk\t\tTime Lord, Gallifrey\n",
      "Exampleson, Example\tme@example.com\t555-555-5552\tExample, Example Co.\t@example\n",
      "Pael, Ripal\tripalp@codingtemple.com\t(555) 555-5553\tTeacher, Coding Temple\t@ripalp\n",
      "Vader, Darth\tdarth-vader@empire.gov\t(555) 555-4444\tSith Lord, Galactic Empire\t@darthvader\n",
      "Fernandez de la Vega Sanz, Maria Teresa\tmtfvs@spain.gov\t\tFirst Deputy Prime Minister, Spanish Gov\n",
      "\n"
     ]
    }
   ],
   "source": [
    "with open('names.txt') as f:\n",
    "    data = f.read()\n",
    "    print(data)"
   ]
  },
  {
   "cell_type": "code",
   "execution_count": 176,
   "metadata": {
    "scrolled": false
   },
   "outputs": [
    {
     "name": "stdout",
     "output_type": "stream",
     "text": [
      "Hawkins, Derek\tderek@codingtemple.com\t(555) 555-5555\tTeacher, Coding Temple\t@derekhawkins\n",
      "\n",
      "     =================\n",
      "     Full Name/Twitter\n",
      "     =================\n",
      "\n",
      "Derek Hawkins / derekhawkins\n",
      "\n",
      "Sven-Erik Osterberg / sverik\n",
      "\n",
      "Ryan Butz / ryanbutz\n",
      "\n",
      "Example Exampleson / example\n",
      "\n",
      "Ripal Pael / ripalp\n",
      "\n",
      "Darth Vader / darthvader\n"
     ]
    }
   ],
   "source": [
    "#?P<sven>\n",
    "with open(\"names.txt\") as f:\n",
    "    data = f.readlines()\n",
    "    print(data[0])\n",
    "    \n",
    "                      #Grp1      #Grp2        #Grp3          #Grp4  \n",
    "pattern = re.compile('(\\w+),\\s([A-Za-z]+-)*([A-Za-z]+).*\\s@([a-z]+$)')\n",
    "# pattern = re.compile('(\\w+),\\s(?P<sven>[A-Za-z]+-)*([A-Za-z]+).*\\s(@[a-z]+$)') <-- naming a group\n",
    "# <sven> can be anything, and we can call it on line 24 like match.group('sven') if we want instead of match.group(2)\n",
    "# .* means everything/anything that comes up after our group 3 and before \\s@ which is \" @\"\n",
    "# $ signifies end of line // end of the entire pattern we are looking for\n",
    "# Grp1 = last name\n",
    "# Grp2 = us searching for hyphenated first name (Sven-)\n",
    "# Grp3 = first name\n",
    "# Grp4 = twitter handle\n",
    "\n",
    "print('     =================')\n",
    "print('     Full Name/Twitter')\n",
    "print('     =================')\n",
    "\n",
    "for person in data:\n",
    "    match = pattern.search(person)\n",
    "    if match:\n",
    "        if match.group(2): # this runs if group 2 exists aka our \"sven-\"\n",
    "            print('\\n' f\"{match.group(2)}{match.group(3)} {match.group(1)} / {match.group(4)}\")\n",
    "        else:\n",
    "            print('\\n' f\"{match.group(3)} {match.group(1)} / {match.group(4)}\")\n"
   ]
  },
  {
   "cell_type": "markdown",
   "metadata": {},
   "source": [
    "### Regex project\n",
    "\n",
    "Use python to read the file regex_test.txt and print the last name on each line using regular expressions and groups (return None for names with no first and last name, or names that aren't properly capitalized)\n",
    "##### Hint: use with open() and readlines()"
   ]
  },
  {
   "cell_type": "code",
   "execution_count": null,
   "metadata": {},
   "outputs": [],
   "source": [
    "\"\"\"\n",
    "Expected Output\n",
    "Abraham Lincoln\n",
    "Andrew P Garfield\n",
    "Connor Milliken\n",
    "Jordan Alexander Williams\n",
    "None\n",
    "None\n",
    "\"\"\""
   ]
  },
  {
   "cell_type": "code",
   "execution_count": 215,
   "metadata": {},
   "outputs": [
    {
     "name": "stdout",
     "output_type": "stream",
     "text": [
      "Abraham Lincoln\n",
      "\n",
      "Andrew P Garfield\n",
      "\n",
      "Connor Milliken\n",
      "\n",
      "Jordan Alexander Williams\n",
      "\n",
      "None\n",
      "None\n"
     ]
    }
   ],
   "source": [
    "with open(\"regex_test.txt\") as f:\n",
    "    data = f.readlines()\n",
    "                         #Grp1           #Grp2      #Grp3\n",
    "pattern = re.compile('([A-Z][a-z]+)\\s([A-Z]\\s)*([A-Z][a-z]+)')\n",
    "\n",
    "for name in data:\n",
    "    if pattern.search(name):\n",
    "        print(name)\n",
    "    else:\n",
    "        print(None)\n"
   ]
  }
 ],
 "metadata": {
  "kernelspec": {
   "display_name": "Python 3 (ipykernel)",
   "language": "python",
   "name": "python3"
  },
  "language_info": {
   "codemirror_mode": {
    "name": "ipython",
    "version": 3
   },
   "file_extension": ".py",
   "mimetype": "text/x-python",
   "name": "python",
   "nbconvert_exporter": "python",
   "pygments_lexer": "ipython3",
   "version": "3.9.13"
  }
 },
 "nbformat": 4,
 "nbformat_minor": 2
}
